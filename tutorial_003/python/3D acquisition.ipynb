{
 "cells": [
  {
   "cell_type": "code",
   "execution_count": 68,
   "metadata": {},
   "outputs": [],
   "source": [
    "from open3d import *\n",
    "import numpy as np\n",
    "import matplotlib.pyplot as plt\n",
    "import glob\n",
    "from skimage import io\n",
    "from scipy.misc import imsave"
   ]
  },
  {
   "cell_type": "markdown",
   "metadata": {},
   "source": [
    "## FileIO"
   ]
  },
  {
   "cell_type": "code",
   "execution_count": 78,
   "metadata": {},
   "outputs": [],
   "source": [
    "mesh = read_triangle_mesh('../data/example_small.ply')"
   ]
  },
  {
   "cell_type": "code",
   "execution_count": 81,
   "metadata": {},
   "outputs": [],
   "source": [
    "draw_geometries([mesh,])"
   ]
  },
  {
   "cell_type": "code",
   "execution_count": 80,
   "metadata": {},
   "outputs": [],
   "source": [
    "mesh.compute_triangle_normals()\n",
    "mesh.normalize_normals()"
   ]
  },
  {
   "cell_type": "code",
   "execution_count": 8,
   "metadata": {},
   "outputs": [
    {
     "data": {
      "text/plain": [
       "array([[  70.01292419, -177.92909241,   72.7302475 ],\n",
       "       [   4.79328394, -189.47872925,  104.02672577],\n",
       "       [  27.08343124, -194.22711182,   81.45735168],\n",
       "       ...,\n",
       "       [ -19.77397537,  129.7089386 ,  124.44219208],\n",
       "       [  -2.48891187,  135.6302948 ,  137.98901367],\n",
       "       [ -55.66135025,   -6.46030617,  132.71543884]])"
      ]
     },
     "execution_count": 8,
     "metadata": {},
     "output_type": "execute_result"
    }
   ],
   "source": [
    "np.asanyarray(mesh.vertices)"
   ]
  },
  {
   "cell_type": "markdown",
   "metadata": {},
   "source": [
    "## Creating Dataset"
   ]
  },
  {
   "cell_type": "code",
   "execution_count": 82,
   "metadata": {},
   "outputs": [],
   "source": [
    "vertices = np.asanyarray(mesh.vertices)\n",
    "normals = np.asanyarray(mesh.vertex_normals)\n",
    "shape = vertices.shape\n",
    "random = np.random.rand(shape[0],1)*2 -1\n",
    "new_vertices = vertices + (random*normals)"
   ]
  },
  {
   "cell_type": "markdown",
   "metadata": {},
   "source": [
    "## Visualization"
   ]
  },
  {
   "cell_type": "code",
   "execution_count": 85,
   "metadata": {},
   "outputs": [],
   "source": [
    "pcd = PointCloud()\n",
    "pcd.points= Vector3dVector(new_vertices)\n",
    "pcd1 = PointCloud()\n",
    "pcd1.points= Vector3dVector(vertices)\n"
   ]
  },
  {
   "cell_type": "code",
   "execution_count": 86,
   "metadata": {},
   "outputs": [],
   "source": [
    "pcd.colors =Vector3dVector([9,5,2]*(random+1)/2)\n",
    "pcd1.colors =Vector3dVector([0,0,0]*random)\n"
   ]
  },
  {
   "cell_type": "code",
   "execution_count": 87,
   "metadata": {},
   "outputs": [],
   "source": [
    "draw_geometries([pcd,pcd1])"
   ]
  }
 ],
 "metadata": {
  "kernelspec": {
   "display_name": "Python 3",
   "language": "python",
   "name": "python3"
  },
  "language_info": {
   "codemirror_mode": {
    "name": "ipython",
    "version": 3
   },
   "file_extension": ".py",
   "mimetype": "text/x-python",
   "name": "python",
   "nbconvert_exporter": "python",
   "pygments_lexer": "ipython3",
   "version": "3.6.6"
  }
 },
 "nbformat": 4,
 "nbformat_minor": 2
}
