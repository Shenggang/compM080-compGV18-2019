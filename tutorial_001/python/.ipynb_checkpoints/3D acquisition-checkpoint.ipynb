{
 "cells": [
  {
   "cell_type": "markdown",
   "metadata": {},
   "source": [
    "## Install OPEN3D\n",
    "\n",
    "```python\n",
    "pip install open3d-python\n",
    "```"
   ]
  },
  {
   "cell_type": "code",
   "execution_count": 2,
   "metadata": {},
   "outputs": [],
   "source": [
    "from open3d import *\n",
    "import numpy as np\n",
    "import matplotlib.pyplot as plt\n",
    "import glob"
   ]
  },
  {
   "cell_type": "markdown",
   "metadata": {},
   "source": [
    "## Camera Parameters\n",
    "PinholeCameraIntrinsicParameters.PrimeSenseDefault are default camera parameter\n",
    "\n",
    "image resolution = 640x480\n",
    "\n",
    "focal length (fx, fy) = (525.0, 525.0)\n",
    "\n",
    "optical center (cx, cy) = (319.5, 239.5)"
   ]
  },
  {
   "cell_type": "code",
   "execution_count": 3,
   "metadata": {},
   "outputs": [],
   "source": [
    "extrinsics = [[1, 0, 0, 0], [0, -1, 0, 0], [0, 0, -1, 0], [0, 0, 0, 1]]"
   ]
  },
  {
   "cell_type": "code",
   "execution_count": null,
   "metadata": {},
   "outputs": [
    {
     "name": "stdout",
     "output_type": "stream",
     "text": [
      "Read DUCK dataset\n",
      "RGBDImage of size \n",
      "Color image : 640x480, with 1 channels.\n",
      "Depth image : 640x480, with 1 channels.\n",
      "Use numpy.asarray to access buffer data.\n"
     ]
    }
   ],
   "source": [
    "print(\"Read DUCK dataset\")\n",
    "color_raw = read_image(\"../data/color/0.jpg\")\n",
    "depth_raw = read_image(\"../data/depth/0.png\")\n",
    "rgbd_image = create_rgbd_image_from_color_and_depth(\n",
    "    color_raw, depth_raw);\n",
    "print(rgbd_image)\n",
    "plt.subplot(1, 2, 1)\n",
    "plt.title('DUCK grayscale image')\n",
    "plt.imshow(rgbd_image.color)\n",
    "plt.subplot(1, 2, 2)\n",
    "plt.title('DUCK depth image')\n",
    "plt.imshow(rgbd_image.depth)\n",
    "plt.show()\n",
    "pcd = create_point_cloud_from_rgbd_image(rgbd_image, PinholeCameraIntrinsic(\n",
    "        PinholeCameraIntrinsicParameters.PrimeSenseDefault))\n",
    "# Flip it, otherwise the pointcloud will be upside down\n",
    "pcd.transform([[1, 0, 0, 0], [0, -1, 0, 0], [0, 0, -1, 0], [0, 0, 0, 1]])\n",
    "\n",
    "draw_geometries([pcd])"
   ]
  },
  {
   "cell_type": "markdown",
   "metadata": {},
   "source": [
    "## Mean of point clouds"
   ]
  },
  {
   "cell_type": "code",
   "execution_count": null,
   "metadata": {},
   "outputs": [],
   "source": []
  },
  {
   "cell_type": "markdown",
   "metadata": {},
   "source": [
    "## File IO"
   ]
  },
  {
   "cell_type": "code",
   "execution_count": 45,
   "metadata": {},
   "outputs": [
    {
     "data": {
      "text/plain": [
       "True"
      ]
     },
     "execution_count": 45,
     "metadata": {},
     "output_type": "execute_result"
    }
   ],
   "source": [
    "write_point_cloud(\"./save/redwood.ply\", pcd)"
   ]
  },
  {
   "cell_type": "code",
   "execution_count": 51,
   "metadata": {},
   "outputs": [
    {
     "name": "stdout",
     "output_type": "stream",
     "text": [
      "[[ -54.94885612   59.93228459 -137.69999743]\n",
      " [ -36.3114278    77.90761739 -178.99999619]\n",
      " [ -31.63333337   82.60819056 -189.80000019]\n",
      " ...\n",
      " [  45.82285728  -42.30514298  -97.20000029]\n",
      " [  48.60000014  -42.30514298  -97.20000029]\n",
      " [  50.63952243  -42.00047505  -96.49999738]]\n"
     ]
    }
   ],
   "source": [
    "print(np.asarray(pcd.points))"
   ]
  },
  {
   "cell_type": "code",
   "execution_count": 87,
   "metadata": {},
   "outputs": [
    {
     "data": {
      "text/plain": [
       "array([[0, 0, 0, ..., 0, 0, 0],\n",
       "       [0, 0, 0, ..., 0, 0, 0],\n",
       "       [0, 0, 0, ..., 0, 0, 0],\n",
       "       ...,\n",
       "       [0, 0, 0, ..., 0, 0, 0],\n",
       "       [0, 0, 0, ..., 0, 0, 0],\n",
       "       [0, 0, 0, ..., 0, 0, 0]], dtype=uint16)"
      ]
     },
     "execution_count": 87,
     "metadata": {},
     "output_type": "execute_result"
    }
   ],
   "source": [
    "np.asarray(depth_raw)"
   ]
  },
  {
   "cell_type": "markdown",
   "metadata": {},
   "source": [
    "## Scaling up PCD"
   ]
  },
  {
   "cell_type": "code",
   "execution_count": 8,
   "metadata": {},
   "outputs": [],
   "source": [
    "pcd2 = PointCloud()\n",
    "pcd2.points = Vector3dVector(np.asarray(pcd.points)*100)"
   ]
  },
  {
   "cell_type": "markdown",
   "metadata": {},
   "source": [
    "# Mesh"
   ]
  },
  {
   "cell_type": "code",
   "execution_count": 6,
   "metadata": {},
   "outputs": [],
   "source": [
    "mesh = read_triangle_mesh(\"./mesh/knot.ply\")"
   ]
  },
  {
   "cell_type": "code",
   "execution_count": 9,
   "metadata": {},
   "outputs": [],
   "source": [
    "draw_geometries([pcd2, mesh ])"
   ]
  },
  {
   "cell_type": "code",
   "execution_count": 52,
   "metadata": {},
   "outputs": [
    {
     "data": {
      "text/plain": [
       "std::vector<Eigen::Vector3i> with 2880 elements.\n",
       "Use numpy.asarray() to access data."
      ]
     },
     "execution_count": 52,
     "metadata": {},
     "output_type": "execute_result"
    }
   ],
   "source": [
    "mesh.triangles"
   ]
  },
  {
   "cell_type": "markdown",
   "metadata": {},
   "source": [
    "# Normal Visualization"
   ]
  },
  {
   "cell_type": "code",
   "execution_count": 11,
   "metadata": {},
   "outputs": [],
   "source": [
    "estimate_normals(pcd, search_param = KDTreeSearchParamHybrid(\n",
    "        radius = 0.1, max_nn = 30))\n",
    "draw_geometries([pcd])"
   ]
  },
  {
   "cell_type": "code",
   "execution_count": 75,
   "metadata": {},
   "outputs": [],
   "source": [
    "volume = ScalableTSDFVolume(voxel_length = 4.0 / 512.0,\n",
    "        sdf_trunc = 0.04, color_type = TSDFVolumeColorType.RGB8)\n",
    "rgbd = create_rgbd_image_from_color_and_depth(color_raw, depth_raw,\n",
    "        depth_trunc = 4.0, convert_rgb_to_intensity = False)\n",
    "volume.integrate(rgbd, PinholeCameraIntrinsic(PinholeCameraIntrinsicParameters.PrimeSenseDefault), extrinsics)\n",
    "mesh = volume.extract_triangle_mesh();"
   ]
  },
  {
   "cell_type": "code",
   "execution_count": 70,
   "metadata": {},
   "outputs": [],
   "source": [
    "draw_geometries([mesh, ])"
   ]
  },
  {
   "cell_type": "code",
   "execution_count": null,
   "metadata": {},
   "outputs": [],
   "source": []
  }
 ],
 "metadata": {
  "kernelspec": {
   "display_name": "Python 3",
   "language": "python",
   "name": "python3"
  },
  "language_info": {
   "codemirror_mode": {
    "name": "ipython",
    "version": 3
   },
   "file_extension": ".py",
   "mimetype": "text/x-python",
   "name": "python",
   "nbconvert_exporter": "python",
   "pygments_lexer": "ipython3",
   "version": "3.6.6"
  }
 },
 "nbformat": 4,
 "nbformat_minor": 2
}
